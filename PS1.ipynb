{
 "cells": [
  {
   "cell_type": "code",
   "execution_count": 8,
   "id": "f82d9ba8-63b2-480b-9c7e-0db6258407a6",
   "metadata": {},
   "outputs": [
    {
     "ename": "SyntaxError",
     "evalue": "invalid syntax (3918638493.py, line 10)",
     "output_type": "error",
     "traceback": [
      "\u001b[1;36m  Input \u001b[1;32mIn [8]\u001b[1;36m\u001b[0m\n\u001b[1;33m    else if np.where(a>c)is true\u001b[0m\n\u001b[1;37m         ^\u001b[0m\n\u001b[1;31mSyntaxError\u001b[0m\u001b[1;31m:\u001b[0m invalid syntax\n"
     ]
    }
   ],
   "source": [
    "#first\n",
    "Print_values\n",
    "a=np.random.randint(0,10,1)\n",
    "b=np.random.randint(0,10,1)\n",
    "c=np.random.randint(0,10,1)\n",
    "print(a,b,c)\n",
    "np.where(a>b)\n",
    "if np.where(a>b)is true:\n",
    "    if np.where(b>c)is true:\n",
    "        print(a,b,c)\n",
    "    else if np.where(a>c)is true\n",
    "        print(a,c,b)\n",
    "    else\n",
    "        print(c,a,b)\n",
    "else np.where(b>c)is false:\n",
    "        print(c,b,a)\n",
    "    "
   ]
  },
  {
   "cell_type": "code",
   "execution_count": 20,
   "id": "d654a71d-13f6-400b-972b-e708cb87e4fc",
   "metadata": {},
   "outputs": [
    {
     "ename": "SyntaxError",
     "evalue": "cannot assign to function call (3426132548.py, line 8)",
     "output_type": "error",
     "traceback": [
      "\u001b[1;36m  Input \u001b[1;32mIn [20]\u001b[1;36m\u001b[0m\n\u001b[1;33m    F(x) = F(f) + 2x\u001b[0m\n\u001b[1;37m    ^\u001b[0m\n\u001b[1;31mSyntaxError\u001b[0m\u001b[1;31m:\u001b[0m cannot assign to function call\n"
     ]
    }
   ],
   "source": [
    "#second\n",
    "import numpy as np\n",
    "import math\n",
    "N=np.random.randint(0,10,10)\n",
    "\n",
    "for x in N:\n",
    "    f=math.ceil(x/3)\n",
    "    F(x) = F(f) + 2x\n",
    "    print(N,F)"
   ]
  },
  {
   "cell_type": "code",
   "execution_count": 21,
   "id": "932b7fb1-f0fc-4640-bebc-d53a3ac478ab",
   "metadata": {},
   "outputs": [
    {
     "name": "stdout",
     "output_type": "stream",
     "text": [
      "[5] [5] [4] [0] [1] [5] [20]\n"
     ]
    }
   ],
   "source": [
    "#third_1\n",
    "\n",
    "a2=np.random.randint(0,6,1)\n",
    "a3=np.random.randint(0,6,1)\n",
    "a4=np.random.randint(0,6,1)\n",
    "a5=np.random.randint(0,6,1)\n",
    "a6=np.random.randint(0,6,1)\n",
    "a7=sum([a1,a2,a3,a4,a5,a6])\n",
    "print(a1,a2,a3,a4,a5,a6,a7)"
   ]
  },
  {
   "cell_type": "code",
   "execution_count": 22,
   "id": "6b5caa4f-1344-4b9f-a289-2b4628cec064",
   "metadata": {},
   "outputs": [
    {
     "data": {
      "text/plain": [
       "array([57])"
      ]
     },
     "execution_count": 22,
     "metadata": {},
     "output_type": "execute_result"
    }
   ],
   "source": [
    "#third_2\n",
    "X=np.random.randint(10,60,1)\n",
    "X"
   ]
  },
  {
   "cell_type": "code",
   "execution_count": 30,
   "id": "3017316b-f192-47e4-aaa8-b5e4128e5025",
   "metadata": {},
   "outputs": [
    {
     "ename": "SyntaxError",
     "evalue": "invalid syntax (3353774347.py, line 2)",
     "output_type": "error",
     "traceback": [
      "\u001b[1;36m  Input \u001b[1;32mIn [30]\u001b[1;36m\u001b[0m\n\u001b[1;33m    def Random_integer()\u001b[0m\n\u001b[1;37m                        ^\u001b[0m\n\u001b[1;31mSyntaxError\u001b[0m\u001b[1;31m:\u001b[0m invalid syntax\n"
     ]
    }
   ],
   "source": [
    "#fourth_1\n",
    "def Random_integer()\n",
    "print(np.random.randint(0,10,1))\n",
    "N=np.zero(2,3)\n",
    "for a in range(6)\n",
    "N[a]=Random_integer(a)\n",
    "print(N）"
   ]
  },
  {
   "cell_type": "code",
   "execution_count": 34,
   "id": "852e1669-f787-412d-a9e8-6f59e1184b17",
   "metadata": {},
   "outputs": [
    {
     "name": "stdout",
     "output_type": "stream",
     "text": [
      "[[1 1 0 0 0 0 0 0]\n",
      " [1 1 0 1 0 0 0 1]\n",
      " [1 0 1 0 0 1 0 0]\n",
      " [0 1 1 1 0 0 0 0]\n",
      " [0 0 0 0 0 1 0 1]]\n"
     ]
    }
   ],
   "source": [
    "#fifth_1\n",
    "n=5\n",
    "m=8\n",
    "M=np.random.randint(0,2,(n,m))\n",
    "M[[0,-1],[0,-1]]=1\n",
    "print(M)"
   ]
  },
  {
   "cell_type": "code",
   "execution_count": null,
   "id": "a20fc52f-85ff-47ba-b55d-ee1233be66df",
   "metadata": {},
   "outputs": [],
   "source": []
  }
 ],
 "metadata": {
  "kernelspec": {
   "display_name": "Python 3 (ipykernel)",
   "language": "python",
   "name": "python3"
  },
  "language_info": {
   "codemirror_mode": {
    "name": "ipython",
    "version": 3
   },
   "file_extension": ".py",
   "mimetype": "text/x-python",
   "name": "python",
   "nbconvert_exporter": "python",
   "pygments_lexer": "ipython3",
   "version": "3.9.12"
  }
 },
 "nbformat": 4,
 "nbformat_minor": 5
}
