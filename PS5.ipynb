{
 "cells": [
  {
   "cell_type": "code",
   "execution_count": 51,
   "id": "5633f57c-5d63-42a2-9de3-8b60d2587c31",
   "metadata": {},
   "outputs": [],
   "source": [
    "import scipy\n",
    "import pandas as pd\n",
    "import numpy as np\n",
    "import matplotlib.pyplot as plt\n",
    "%matplotlib inline"
   ]
  },
  {
   "cell_type": "code",
   "execution_count": 4,
   "id": "d210ce69-1466-4390-ba9a-f19c044d58fd",
   "metadata": {},
   "outputs": [
    {
     "name": "stdout",
     "output_type": "stream",
     "text": [
      "D:\\ANACONDA\\lib\\site-packages\\scipy\\__init__.py\n"
     ]
    }
   ],
   "source": [
    "print(scipy.__file__)"
   ]
  },
  {
   "cell_type": "code",
   "execution_count": 47,
   "id": "385ef64d-97bd-4b70-9c23-03a8f232b069",
   "metadata": {},
   "outputs": [
    {
     "data": {
      "text/html": [
       "<div>\n",
       "<style scoped>\n",
       "    .dataframe tbody tr th:only-of-type {\n",
       "        vertical-align: middle;\n",
       "    }\n",
       "\n",
       "    .dataframe tbody tr th {\n",
       "        vertical-align: top;\n",
       "    }\n",
       "\n",
       "    .dataframe thead th {\n",
       "        text-align: right;\n",
       "    }\n",
       "</style>\n",
       "<table border=\"1\" class=\"dataframe\">\n",
       "  <thead>\n",
       "    <tr style=\"text-align: right;\">\n",
       "      <th></th>\n",
       "      <th>Year</th>\n",
       "      <th>Total carbon emissions from fossil fuel consumption and cement production (million metric tons of C)</th>\n",
       "      <th>CO2</th>\n",
       "      <th>PPM</th>\n",
       "    </tr>\n",
       "  </thead>\n",
       "  <tbody>\n",
       "    <tr>\n",
       "      <th>236</th>\n",
       "      <td>1987</td>\n",
       "      <td>5725</td>\n",
       "      <td>5725</td>\n",
       "      <td>2.687793</td>\n",
       "    </tr>\n",
       "    <tr>\n",
       "      <th>237</th>\n",
       "      <td>1988</td>\n",
       "      <td>5936</td>\n",
       "      <td>5936</td>\n",
       "      <td>2.786854</td>\n",
       "    </tr>\n",
       "    <tr>\n",
       "      <th>238</th>\n",
       "      <td>1989</td>\n",
       "      <td>6066</td>\n",
       "      <td>6066</td>\n",
       "      <td>2.847887</td>\n",
       "    </tr>\n",
       "    <tr>\n",
       "      <th>239</th>\n",
       "      <td>1990</td>\n",
       "      <td>6074</td>\n",
       "      <td>6074</td>\n",
       "      <td>2.851643</td>\n",
       "    </tr>\n",
       "    <tr>\n",
       "      <th>240</th>\n",
       "      <td>1991</td>\n",
       "      <td>6142</td>\n",
       "      <td>6142</td>\n",
       "      <td>2.883568</td>\n",
       "    </tr>\n",
       "    <tr>\n",
       "      <th>241</th>\n",
       "      <td>1992</td>\n",
       "      <td>6078</td>\n",
       "      <td>6078</td>\n",
       "      <td>2.853521</td>\n",
       "    </tr>\n",
       "    <tr>\n",
       "      <th>242</th>\n",
       "      <td>1993</td>\n",
       "      <td>6070</td>\n",
       "      <td>6070</td>\n",
       "      <td>2.849765</td>\n",
       "    </tr>\n",
       "    <tr>\n",
       "      <th>243</th>\n",
       "      <td>1994</td>\n",
       "      <td>6174</td>\n",
       "      <td>6174</td>\n",
       "      <td>2.898592</td>\n",
       "    </tr>\n",
       "    <tr>\n",
       "      <th>244</th>\n",
       "      <td>1995</td>\n",
       "      <td>6305</td>\n",
       "      <td>6305</td>\n",
       "      <td>2.960094</td>\n",
       "    </tr>\n",
       "    <tr>\n",
       "      <th>245</th>\n",
       "      <td>1996</td>\n",
       "      <td>6448</td>\n",
       "      <td>6448</td>\n",
       "      <td>3.027230</td>\n",
       "    </tr>\n",
       "    <tr>\n",
       "      <th>246</th>\n",
       "      <td>1997</td>\n",
       "      <td>6556</td>\n",
       "      <td>6556</td>\n",
       "      <td>3.077934</td>\n",
       "    </tr>\n",
       "    <tr>\n",
       "      <th>247</th>\n",
       "      <td>1998</td>\n",
       "      <td>6576</td>\n",
       "      <td>6576</td>\n",
       "      <td>3.087324</td>\n",
       "    </tr>\n",
       "    <tr>\n",
       "      <th>248</th>\n",
       "      <td>1999</td>\n",
       "      <td>6561</td>\n",
       "      <td>6561</td>\n",
       "      <td>3.080282</td>\n",
       "    </tr>\n",
       "    <tr>\n",
       "      <th>249</th>\n",
       "      <td>2000</td>\n",
       "      <td>6733</td>\n",
       "      <td>6733</td>\n",
       "      <td>3.161033</td>\n",
       "    </tr>\n",
       "    <tr>\n",
       "      <th>250</th>\n",
       "      <td>2001</td>\n",
       "      <td>6893</td>\n",
       "      <td>6893</td>\n",
       "      <td>3.236150</td>\n",
       "    </tr>\n",
       "    <tr>\n",
       "      <th>251</th>\n",
       "      <td>2002</td>\n",
       "      <td>6994</td>\n",
       "      <td>6994</td>\n",
       "      <td>3.283568</td>\n",
       "    </tr>\n",
       "    <tr>\n",
       "      <th>252</th>\n",
       "      <td>2003</td>\n",
       "      <td>7376</td>\n",
       "      <td>7376</td>\n",
       "      <td>3.462911</td>\n",
       "    </tr>\n",
       "    <tr>\n",
       "      <th>253</th>\n",
       "      <td>2004</td>\n",
       "      <td>7743</td>\n",
       "      <td>7743</td>\n",
       "      <td>3.635211</td>\n",
       "    </tr>\n",
       "  </tbody>\n",
       "</table>\n",
       "</div>"
      ],
      "text/plain": [
       "     Year  \\\n",
       "236  1987   \n",
       "237  1988   \n",
       "238  1989   \n",
       "239  1990   \n",
       "240  1991   \n",
       "241  1992   \n",
       "242  1993   \n",
       "243  1994   \n",
       "244  1995   \n",
       "245  1996   \n",
       "246  1997   \n",
       "247  1998   \n",
       "248  1999   \n",
       "249  2000   \n",
       "250  2001   \n",
       "251  2002   \n",
       "252  2003   \n",
       "253  2004   \n",
       "\n",
       "     Total carbon emissions from fossil fuel consumption and cement production (million metric tons of C)  \\\n",
       "236                                               5725                                                      \n",
       "237                                               5936                                                      \n",
       "238                                               6066                                                      \n",
       "239                                               6074                                                      \n",
       "240                                               6142                                                      \n",
       "241                                               6078                                                      \n",
       "242                                               6070                                                      \n",
       "243                                               6174                                                      \n",
       "244                                               6305                                                      \n",
       "245                                               6448                                                      \n",
       "246                                               6556                                                      \n",
       "247                                               6576                                                      \n",
       "248                                               6561                                                      \n",
       "249                                               6733                                                      \n",
       "250                                               6893                                                      \n",
       "251                                               6994                                                      \n",
       "252                                               7376                                                      \n",
       "253                                               7743                                                      \n",
       "\n",
       "      CO2       PPM  \n",
       "236  5725  2.687793  \n",
       "237  5936  2.786854  \n",
       "238  6066  2.847887  \n",
       "239  6074  2.851643  \n",
       "240  6142  2.883568  \n",
       "241  6078  2.853521  \n",
       "242  6070  2.849765  \n",
       "243  6174  2.898592  \n",
       "244  6305  2.960094  \n",
       "245  6448  3.027230  \n",
       "246  6556  3.077934  \n",
       "247  6576  3.087324  \n",
       "248  6561  3.080282  \n",
       "249  6733  3.161033  \n",
       "250  6893  3.236150  \n",
       "251  6994  3.283568  \n",
       "252  7376  3.462911  \n",
       "253  7743  3.635211  "
      ]
     },
     "execution_count": 47,
     "metadata": {},
     "output_type": "execute_result"
    }
   ],
   "source": [
    "# 1-2双盒模型无缓冲  dN1dt = − k12N1 + k21N2 + r ; dN2dt = k12N1 − k21N2 ; k12= 105/740 and k21= 102/900 ;\n",
    "# according to the figure in appendix,we can obvirously see s is directly proportional to CO2 concentration, \n",
    "# so just choose one point to estimate the euqation between two values,r=10,CO2 concentration(ppm)=360,r=10/360*N1\n",
    "r = pd.read_csv('global.1751_2014.csv', skiprows = [1], usecols = [0,1])\n",
    "r = r.loc[(r['Year'] > 1986) & (r['Year'] < 2005)]\n",
    "# .reset_index(drop=True, inplace=True)\n",
    "# # Convert the values into ppm\n",
    "r['CO2'] = r['Total carbon emissions from fossil fuel consumption and cement production (million metric tons of C)']\n",
    "r['PPM'] =r['CO2']/1000/2.13\n",
    "r"
   ]
  },
  {
   "cell_type": "code",
   "execution_count": 54,
   "id": "8fad7d4a-6304-4a04-84ce-aaaa6361e358",
   "metadata": {},
   "outputs": [
    {
     "data": {
      "text/plain": [
       "[<matplotlib.lines.Line2D at 0x1c28281ec70>]"
      ]
     },
     "execution_count": 54,
     "metadata": {},
     "output_type": "execute_result"
    },
    {
     "data": {
      "image/png": "[encoded data removed]",
      "text/plain": [
       "<Figure size 432x288 with 1 Axes>"
      ]
     },
     "metadata": {
      "needs_background": "light"
     },
     "output_type": "display_data"
    }
   ],
   "source": [
    "plt.plot(r['Year'],r['PPM'])"
   ]
  },
  {
   "cell_type": "code",
   "execution_count": 103,
   "id": "91b5a377-6858-48d8-be2e-03e9a1a85211",
   "metadata": {},
   "outputs": [
    {
     "ename": "SyntaxError",
     "evalue": "invalid syntax (4200920273.py, line 31)",
     "output_type": "error",
     "traceback": [
      "\u001b[1;36m  Input \u001b[1;32mIn [103]\u001b[1;36m\u001b[0m\n\u001b[1;33m    Plot results\u001b[0m\n\u001b[1;37m         ^\u001b[0m\n\u001b[1;31mSyntaxError\u001b[0m\u001b[1;31m:\u001b[0m invalid syntax\n"
     ]
    }
   ],
   "source": [
    "from scipy import integrate\n",
    "\n",
    "# Define the function\n",
    "def func(N,t,C):\n",
    "    N1,N2=N\n",
    "    k12,k21,R=C\n",
    "    \n",
    "    dNdt=[-1*k12N1 + k21N2 + r,\n",
    "          k12N1 + -1*k21N2]\n",
    "    \n",
    "    return dNdt\n",
    "\n",
    "    k12 = 105/740\n",
    "    k21 = 102/900\n",
    "    t = np.linspace(1987,2004,18)\n",
    "    R = r.iloc[t-1987,3]\n",
    "    \n",
    "    # Initial condition\n",
    "    N10 = 740/2.13\n",
    "    N20 = 900/2.13\n",
    "\n",
    "    # Solve ODE\n",
    "    n = integrate.odeint(func, N0, t, args=(k12,k21,R))\n",
    "    n\n",
    "\n",
    "    n1 = n[2:,0]\n",
    "    \n",
    "    # Error\n",
    "    g = lambda t:exp(-0.3*t)\n",
    "\n",
    "    Plot results\n",
    "    plt.plot(t,n1)\n",
    "    plt.xlabel('time (t)')\n",
    "    plt.ylabel('N1(t)')\n",
    "    plt.show()"
   ]
  },
  {
   "cell_type": "code",
   "execution_count": 95,
   "id": "f460f115-bdaa-4a8e-906f-e8dda6d0a7b1",
   "metadata": {},
   "outputs": [
    {
     "ename": "SyntaxError",
     "evalue": "invalid syntax (1210952575.py, line 1)",
     "output_type": "error",
     "traceback": [
      "\u001b[1;36m  Input \u001b[1;32mIn [95]\u001b[1;36m\u001b[0m\n\u001b[1;33m    CO2a = pd.DateFrame{'Year':t,'CO2(ppm) in atmosphere':n1}\u001b[0m\n\u001b[1;37m                       ^\u001b[0m\n\u001b[1;31mSyntaxError\u001b[0m\u001b[1;31m:\u001b[0m invalid syntax\n"
     ]
    }
   ],
   "source": [
    "CO2a = pd.DateFrame{'Year':t,'CO2(ppm) in atmosphere':n1}\n",
    "# CO2s = pd.DateFrame{'Year':t,'CO2(ppm) in atmosphere':n2}\n",
    "CO2a\n",
    "# CO2s"
   ]
  },
  {
   "cell_type": "code",
   "execution_count": 1,
   "id": "7de0ca4d",
   "metadata": {},
   "outputs": [
    {
     "name": "stdout",
     "output_type": "stream",
     "text": [
      "Collecting package metadata (current_repodata.json): ...working... done\n",
      "Solving environment: ...working... done\n",
      "\n",
      "# All requested packages already installed.\n",
      "\n",
      "\n",
      "Note: you may need to restart the kernel to use updated packages.\n"
     ]
    }
   ],
   "source": [
    "conda install nbconvert"
   ]
  },
  {
   "cell_type": "code",
   "execution_count": 2,
   "id": "bacdc808",
   "metadata": {},
   "outputs": [
    {
     "ename": "SyntaxError",
     "evalue": "invalid syntax (1901338604.py, line 1)",
     "output_type": "error",
     "traceback": [
      "\u001b[1;36m  Input \u001b[1;32mIn [2]\u001b[1;36m\u001b[0m\n\u001b[1;33m    sudo apt-get install pandoc\u001b[0m\n\u001b[1;37m         ^\u001b[0m\n\u001b[1;31mSyntaxError\u001b[0m\u001b[1;31m:\u001b[0m invalid syntax\n"
     ]
    }
   ],
   "source": [
    "sudo apt-get install pandoc"
   ]
  }
 ],
 "metadata": {
  "kernelspec": {
   "display_name": "Python 3 (ipykernel)",
   "language": "python",
   "name": "python3"
  },
  "language_info": {
   "codemirror_mode": {
    "name": "ipython",
    "version": 3
   },
   "file_extension": ".py",
   "mimetype": "text/x-python",
   "name": "python",
   "nbconvert_exporter": "python",
   "pygments_lexer": "ipython3",
   "version": "3.9.12"
  }
 },
 "nbformat": 4,
 "nbformat_minor": 5
}
